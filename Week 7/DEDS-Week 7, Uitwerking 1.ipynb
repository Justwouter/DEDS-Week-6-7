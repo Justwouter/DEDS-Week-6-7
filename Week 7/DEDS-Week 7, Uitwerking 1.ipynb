{
 "cells": [
  {
   "cell_type": "code",
   "execution_count": 54,
   "metadata": {},
   "outputs": [],
   "source": [
    "import pandas as pd\n",
    "import pyodbc, os\n",
    "from ydata_profiling import ProfileReport"
   ]
  },
  {
   "cell_type": "code",
   "execution_count": 55,
   "metadata": {},
   "outputs": [],
   "source": [
    "sales_conn = pyodbc.connect(r'Driver={Microsoft Access Driver (*.mdb, *.accdb)};DBQ=D:\\Coding\\SE2\\DEDS\\Python\\GO-databases DEDS-week 4 & 5\\go_sales.accdb;')\n",
    "crm_conn = pyodbc.connect(r'Driver={Microsoft Access Driver (*.mdb, *.accdb)};DBQ=D:\\Coding\\SE2\\DEDS\\Python\\GO-databases DEDS-week 4 & 5\\go_crm.accdb;')"
   ]
  },
  {
   "cell_type": "code",
   "execution_count": 56,
   "metadata": {},
   "outputs": [
    {
     "name": "stderr",
     "output_type": "stream",
     "text": [
      "C:\\Users\\Wouter Swijnenburg\\AppData\\Local\\Temp\\ipykernel_25224\\2903736725.py:1: UserWarning: pandas only supports SQLAlchemy connectable (engine/connection) or database string URI or sqlite3 DBAPI2 connection. Other DBAPI2 objects are not tested. Please consider using SQLAlchemy.\n",
      "  product = pd.read_sql(\"SELECT * FROM product\", sales_conn)\n",
      "C:\\Users\\Wouter Swijnenburg\\AppData\\Local\\Temp\\ipykernel_25224\\2903736725.py:2: UserWarning: pandas only supports SQLAlchemy connectable (engine/connection) or database string URI or sqlite3 DBAPI2 connection. Other DBAPI2 objects are not tested. Please consider using SQLAlchemy.\n",
      "  order_header = pd.read_sql(\"SELECT * FROM order_header\", sales_conn)\n",
      "C:\\Users\\Wouter Swijnenburg\\AppData\\Local\\Temp\\ipykernel_25224\\2903736725.py:3: UserWarning: pandas only supports SQLAlchemy connectable (engine/connection) or database string URI or sqlite3 DBAPI2 connection. Other DBAPI2 objects are not tested. Please consider using SQLAlchemy.\n",
      "  order_details = pd.read_sql(\"SELECT * FROM order_details\", sales_conn)\n",
      "C:\\Users\\Wouter Swijnenburg\\AppData\\Local\\Temp\\ipykernel_25224\\2903736725.py:4: UserWarning: pandas only supports SQLAlchemy connectable (engine/connection) or database string URI or sqlite3 DBAPI2 connection. Other DBAPI2 objects are not tested. Please consider using SQLAlchemy.\n",
      "  retailer = pd.read_sql(\"SELECT * FROM retailer\", crm_conn)\n",
      "C:\\Users\\Wouter Swijnenburg\\AppData\\Local\\Temp\\ipykernel_25224\\2903736725.py:5: UserWarning: pandas only supports SQLAlchemy connectable (engine/connection) or database string URI or sqlite3 DBAPI2 connection. Other DBAPI2 objects are not tested. Please consider using SQLAlchemy.\n",
      "  retailer_site = pd.read_sql(\"SELECT * FROM crm_retailer_site\", crm_conn)\n"
     ]
    }
   ],
   "source": [
    "product = pd.read_sql(\"SELECT * FROM product\", sales_conn)\n",
    "order_header = pd.read_sql(\"SELECT * FROM order_header\", sales_conn)\n",
    "order_details = pd.read_sql(\"SELECT * FROM order_details\", sales_conn)\n",
    "retailer = pd.read_sql(\"SELECT * FROM retailer\", crm_conn)\n",
    "retailer_site = pd.read_sql(\"SELECT * FROM crm_retailer_site\", crm_conn)\n",
    "\n",
    "\n"
   ]
  },
  {
   "attachments": {},
   "cell_type": "markdown",
   "metadata": {},
   "source": [
    "Given code"
   ]
  },
  {
   "cell_type": "code",
   "execution_count": 57,
   "metadata": {},
   "outputs": [
    {
     "data": {
      "text/plain": [
       "0"
      ]
     },
     "execution_count": 57,
     "metadata": {},
     "output_type": "execute_result"
    }
   ],
   "source": [
    "product['INTRODUCTION_DATE'] = product['INTRODUCTION_DATE'].fillna('onbekend')\n",
    "product['INTRODUCTION_DATE'].isna().sum()"
   ]
  },
  {
   "cell_type": "code",
   "execution_count": 58,
   "metadata": {},
   "outputs": [
    {
     "data": {
      "text/plain": [
       "0"
      ]
     },
     "execution_count": 58,
     "metadata": {},
     "output_type": "execute_result"
    }
   ],
   "source": [
    "modus = product['LANGUAGE'].mode()[0]\n",
    "product['LANGUAGE'] = product['LANGUAGE'].fillna(modus)\n",
    "product['LANGUAGE'].isna().sum()\n"
   ]
  },
  {
   "cell_type": "code",
   "execution_count": 59,
   "metadata": {},
   "outputs": [],
   "source": [
    "subset_product_name_contains_granite = product.loc[(~product['PRODUCT_NAME'].isna()) & (product['PRODUCT_NAME'].str.contains('Granite')), :]\n",
    "subset_product_name_contains_granite = product.loc[(~product['PRODUCT_NAME'].isna()) & (product['PRODUCT_NAME'].str.contains('Granite')), :]\n",
    "product.loc[(~product['PRODUCT_NAME'].isna()) & (product['PRODUCT_NAME'].str.contains('Granite')), 'PRODUCT_TYPE_CODE'] = subset_product_name_contains_granite['PRODUCT_TYPE_CODE'].fillna(9)"
   ]
  },
  {
   "cell_type": "code",
   "execution_count": 60,
   "metadata": {},
   "outputs": [
    {
     "data": {
      "text/plain": [
       "0"
      ]
     },
     "execution_count": 60,
     "metadata": {},
     "output_type": "execute_result"
    }
   ],
   "source": [
    "product['INTRODUCTION_YEAR'] = product['INTRODUCTION_DATE'].str[-4:]\n",
    "subset_introduction_year_2011_2019 = product.loc[(product['INTRODUCTION_YEAR'] == '2011') | (product['INTRODUCTION_YEAR'] == '2019'), :]\n",
    "grouped_subset_introduction_year_2011_2019 = subset_introduction_year_2011_2019.groupby(['INTRODUCTION_YEAR', 'PRODUCT_TYPE_CODE'])['PRODUCT_NUMBER'].count().reset_index()\n",
    "grouped_subset_introduction_year_2011_2019 = grouped_subset_introduction_year_2011_2019.rename(columns = {'PRODUCT_NUMBER' : 'Aantal producten'})\n",
    "grouped_subset_introduction_year_2011_2019.sort_values(['INTRODUCTION_YEAR', 'Aantal producten'], ascending = [True, False])\n",
    "product.loc[(product['INTRODUCTION_YEAR'] == '2011'), 'PRODUCT_TYPE_CODE'] = product.loc[(product['INTRODUCTION_YEAR'] == '2011'), 'PRODUCT_TYPE_CODE'].fillna(1)\n",
    "product.loc[(product['INTRODUCTION_YEAR'] == '2019'), 'PRODUCT_TYPE_CODE'] = product.loc[(product['INTRODUCTION_YEAR'] == '2019'), 'PRODUCT_TYPE_CODE'].fillna(19)\n",
    "product['PRODUCT_TYPE_CODE'].isna().sum()"
   ]
  },
  {
   "attachments": {},
   "cell_type": "markdown",
   "metadata": {},
   "source": [
    "My code"
   ]
  },
  {
   "cell_type": "code",
   "execution_count": 61,
   "metadata": {},
   "outputs": [],
   "source": [
    "product = product.drop('INTRODUCTION_YEAR', axis='columns')\n",
    "product = product.drop('PRODUCTION_COST', axis='columns')\n",
    "product = product.drop('MARGIN', axis='columns')\n",
    "product = product.drop('PRODUCT_IMAGE', axis='columns')\n",
    "product = product.drop('PRODUCT_NAME', axis='columns')\n",
    "product = product.drop('DESCRIPTION', axis='columns')"
   ]
  },
  {
   "cell_type": "code",
   "execution_count": 62,
   "metadata": {},
   "outputs": [
    {
     "data": {
      "application/vnd.jupyter.widget-view+json": {
       "model_id": "427320e618c9485fba97314178d67cef",
       "version_major": 2,
       "version_minor": 0
      },
      "text/plain": [
       "Summarize dataset:   0%|          | 0/5 [00:00<?, ?it/s]"
      ]
     },
     "metadata": {},
     "output_type": "display_data"
    },
    {
     "data": {
      "application/vnd.jupyter.widget-view+json": {
       "model_id": "29cb722536334094a13f0aa02942db23",
       "version_major": 2,
       "version_minor": 0
      },
      "text/plain": [
       "Generate report structure:   0%|          | 0/1 [00:00<?, ?it/s]"
      ]
     },
     "metadata": {},
     "output_type": "display_data"
    },
    {
     "data": {
      "application/vnd.jupyter.widget-view+json": {
       "model_id": "85019a300a904168a00ede8da62404c9",
       "version_major": 2,
       "version_minor": 0
      },
      "text/plain": [
       "Render HTML:   0%|          | 0/1 [00:00<?, ?it/s]"
      ]
     },
     "metadata": {},
     "output_type": "display_data"
    },
    {
     "data": {
      "application/vnd.jupyter.widget-view+json": {
       "model_id": "af19d2756ebf4aca9a12a982b65c37bc",
       "version_major": 2,
       "version_minor": 0
      },
      "text/plain": [
       "Export report to file:   0%|          | 0/1 [00:00<?, ?it/s]"
      ]
     },
     "metadata": {},
     "output_type": "display_data"
    }
   ],
   "source": [
    "profile = ProfileReport(product, title = 'Kwaliteitsrapportage product')\n",
    "try:\n",
    "    os.remove(\"ouut.html\")\n",
    "except:\n",
    "    print(\"tu tu tu tu tututu\")\n",
    "    \n",
    "profile.to_file(\"ouut.html\")\n"
   ]
  }
 ],
 "metadata": {
  "kernelspec": {
   "display_name": "Python 3",
   "language": "python",
   "name": "python3"
  },
  "language_info": {
   "codemirror_mode": {
    "name": "ipython",
    "version": 3
   },
   "file_extension": ".py",
   "mimetype": "text/x-python",
   "name": "python",
   "nbconvert_exporter": "python",
   "pygments_lexer": "ipython3",
   "version": "3.10.8"
  },
  "orig_nbformat": 4
 },
 "nbformat": 4,
 "nbformat_minor": 2
}
