{
 "cells": [
  {
   "cell_type": "markdown",
   "metadata": {},
   "source": [
    "# DEDS-week 7, Hoorcollege 3 - Missende waarden in continue data (TBC eerste HC2 maken, anders gaat dtypes-conversie fout)"
   ]
  },
  {
   "cell_type": "markdown",
   "metadata": {},
   "source": [
    "## Libraries importeren"
   ]
  },
  {
   "cell_type": "code",
   "execution_count": 14,
   "metadata": {},
   "outputs": [],
   "source": [
    "import pandas as pd\n",
    "import pyodbc\n",
    "import matplotlib.pyplot as plt\n",
    "\n",
    "import numpy as np\n",
    "import random"
   ]
  },
  {
   "cell_type": "markdown",
   "metadata": {},
   "source": [
    "Misschien valt het op dat we een aantal extra packages importeren...\n",
    "- Matplotlib.pyplot voor het maken van grafieken.\n",
    "- Numpy voor extra wiskundige functies.\n",
    "- Random voor het laten genereren van een willekeurig getal."
   ]
  },
  {
   "cell_type": "markdown",
   "metadata": {},
   "source": [
    "## Dataframe aanmaken en missende waarden invoegen"
   ]
  },
  {
   "cell_type": "markdown",
   "metadata": {},
   "source": [
    "## Missende waarden invoegen (optioneel)"
   ]
  },
  {
   "cell_type": "code",
   "execution_count": 15,
   "metadata": {},
   "outputs": [],
   "source": [
    "def laadDataIn(bestandsnaam, aantalTeVerwijderen):\n",
    "    dataframe = pd.read_excel(bestandsnaam)\n",
    "    \n",
    "    for kolom in ['PRODUCTION_COST', 'MARGIN']:\n",
    "        verwijderGetallenOpWillekeurigePlekken(dataframe, kolom, aantalTeVerwijderen)\n",
    "    \n",
    "    return dataframe"
   ]
  },
  {
   "cell_type": "markdown",
   "metadata": {},
   "source": [
    "Voor de duidelijkheid: met 'def' wordt een Pythonfunctie gecreëerd die we later meerdere keren zullen aanroepen.\n",
    "\n",
    "Misschien valt het ook op dat dit keer niet pd.read_sql(...), maar pd.read_excel(...) wordt gebruikt. Dit is gedaan, omdat er een databestand 'product_clean.xlsx' wordt gebruikt, waarin alle verwisselde waarden al zijn verwisseld (lesstof van woensdag) en ook alle datatypen al op orde zijn gemaakt."
   ]
  },
  {
   "cell_type": "code",
   "execution_count": 16,
   "metadata": {},
   "outputs": [],
   "source": [
    "def verwijderGetallenOpWillekeurigePlekken(dataframe, kolom, aantalTeVerwijderen):\n",
    "\n",
    "    for i in range(aantalTeVerwijderen):\n",
    "        dataframe.at[random.randint(0, dataframe.shape[0]), kolom] = np.nan"
   ]
  },
  {
   "cell_type": "code",
   "execution_count": 17,
   "metadata": {},
   "outputs": [
    {
     "data": {
      "text/html": [
       "<div>\n",
       "<style scoped>\n",
       "    .dataframe tbody tr th:only-of-type {\n",
       "        vertical-align: middle;\n",
       "    }\n",
       "\n",
       "    .dataframe tbody tr th {\n",
       "        vertical-align: top;\n",
       "    }\n",
       "\n",
       "    .dataframe thead th {\n",
       "        text-align: right;\n",
       "    }\n",
       "</style>\n",
       "<table border=\"1\" class=\"dataframe\">\n",
       "  <thead>\n",
       "    <tr style=\"text-align: right;\">\n",
       "      <th></th>\n",
       "      <th>PRODUCT_NUMBER</th>\n",
       "      <th>INTRODUCTION_DATE</th>\n",
       "      <th>PRODUCT_TYPE_CODE</th>\n",
       "      <th>PRODUCTION_COST</th>\n",
       "      <th>MARGIN</th>\n",
       "      <th>PRODUCT_IMAGE</th>\n",
       "      <th>LANGUAGE</th>\n",
       "      <th>PRODUCT_NAME</th>\n",
       "      <th>DESCRIPTION</th>\n",
       "    </tr>\n",
       "  </thead>\n",
       "  <tbody>\n",
       "    <tr>\n",
       "      <th>0</th>\n",
       "      <td>1</td>\n",
       "      <td>15-2-2011</td>\n",
       "      <td>1</td>\n",
       "      <td>4.00</td>\n",
       "      <td>0.33</td>\n",
       "      <td>P01CE1CG1.jpg</td>\n",
       "      <td>EN</td>\n",
       "      <td>TrailChef Water Bag</td>\n",
       "      <td>Lightweight, collapsible bag to carry liquids ...</td>\n",
       "    </tr>\n",
       "    <tr>\n",
       "      <th>1</th>\n",
       "      <td>10</td>\n",
       "      <td>15-2-2011</td>\n",
       "      <td>1</td>\n",
       "      <td>10.00</td>\n",
       "      <td>0.40</td>\n",
       "      <td>P10CE1CG1.jpg</td>\n",
       "      <td>EN</td>\n",
       "      <td>TrailChef Utensils</td>\n",
       "      <td>Spoon, fork and knife set made of a light yet ...</td>\n",
       "    </tr>\n",
       "    <tr>\n",
       "      <th>2</th>\n",
       "      <td>100</td>\n",
       "      <td>15-2-2011</td>\n",
       "      <td>17</td>\n",
       "      <td>3.00</td>\n",
       "      <td>0.50</td>\n",
       "      <td>P100OP4FA17.jpg</td>\n",
       "      <td>EN</td>\n",
       "      <td>Insect Bite Relief</td>\n",
       "      <td>The Insect Bite Relief helps the itching and s...</td>\n",
       "    </tr>\n",
       "    <tr>\n",
       "      <th>3</th>\n",
       "      <td>101</td>\n",
       "      <td>15-12-2019</td>\n",
       "      <td>18</td>\n",
       "      <td>305.54</td>\n",
       "      <td>NaN</td>\n",
       "      <td>P101GE5IR18.jpg</td>\n",
       "      <td>EN</td>\n",
       "      <td>Hailstorm Steel Irons</td>\n",
       "      <td>Iron is 17-4 stainless steel.  Shafts are grap...</td>\n",
       "    </tr>\n",
       "    <tr>\n",
       "      <th>4</th>\n",
       "      <td>102</td>\n",
       "      <td>10-12-2019</td>\n",
       "      <td>18</td>\n",
       "      <td>380.95</td>\n",
       "      <td>0.51</td>\n",
       "      <td>P102GE5IR18.jpg</td>\n",
       "      <td>EN</td>\n",
       "      <td>Hailstorm Titanium Irons</td>\n",
       "      <td>Made entirely of pure titanium. The ultimate i...</td>\n",
       "    </tr>\n",
       "    <tr>\n",
       "      <th>...</th>\n",
       "      <td>...</td>\n",
       "      <td>...</td>\n",
       "      <td>...</td>\n",
       "      <td>...</td>\n",
       "      <td>...</td>\n",
       "      <td>...</td>\n",
       "      <td>...</td>\n",
       "      <td>...</td>\n",
       "      <td>...</td>\n",
       "    </tr>\n",
       "    <tr>\n",
       "      <th>110</th>\n",
       "      <td>95</td>\n",
       "      <td>15-2-2011</td>\n",
       "      <td>16</td>\n",
       "      <td>3.00</td>\n",
       "      <td>0.50</td>\n",
       "      <td>P91OP4SS16.jpg</td>\n",
       "      <td>EN</td>\n",
       "      <td>Sun Shield</td>\n",
       "      <td>PABA free sunscreen, SPF 30, poison oak and iv...</td>\n",
       "    </tr>\n",
       "    <tr>\n",
       "      <th>111</th>\n",
       "      <td>96</td>\n",
       "      <td>15-2-2011</td>\n",
       "      <td>17</td>\n",
       "      <td>16.43</td>\n",
       "      <td>0.28</td>\n",
       "      <td>P96OP4FA17.jpg</td>\n",
       "      <td>EN</td>\n",
       "      <td>Compact Relief Kit</td>\n",
       "      <td>A personal first aid kit is recommended for ev...</td>\n",
       "    </tr>\n",
       "    <tr>\n",
       "      <th>112</th>\n",
       "      <td>97</td>\n",
       "      <td>5-3-2013</td>\n",
       "      <td>17</td>\n",
       "      <td>25.00</td>\n",
       "      <td>0.28</td>\n",
       "      <td>P96OP4FA17.jpg</td>\n",
       "      <td>EN</td>\n",
       "      <td>Deluxe Family Relief Kit</td>\n",
       "      <td>A complete medical kit suitable for families w...</td>\n",
       "    </tr>\n",
       "    <tr>\n",
       "      <th>113</th>\n",
       "      <td>98</td>\n",
       "      <td>15-2-2011</td>\n",
       "      <td>17</td>\n",
       "      <td>3.00</td>\n",
       "      <td>0.50</td>\n",
       "      <td>P98OP4FA17.jpg</td>\n",
       "      <td>EN</td>\n",
       "      <td>Calamine Relief</td>\n",
       "      <td>Use the Calamine Relief for allergic skin reac...</td>\n",
       "    </tr>\n",
       "    <tr>\n",
       "      <th>114</th>\n",
       "      <td>99</td>\n",
       "      <td>15-2-2011</td>\n",
       "      <td>17</td>\n",
       "      <td>2.00</td>\n",
       "      <td>NaN</td>\n",
       "      <td>P99OP4FA17.jpg</td>\n",
       "      <td>EN</td>\n",
       "      <td>Aloe Relief</td>\n",
       "      <td>Perfect for minor burns and sunburn, the aloe ...</td>\n",
       "    </tr>\n",
       "  </tbody>\n",
       "</table>\n",
       "<p>115 rows × 9 columns</p>\n",
       "</div>"
      ],
      "text/plain": [
       "     PRODUCT_NUMBER INTRODUCTION_DATE  PRODUCT_TYPE_CODE  PRODUCTION_COST  \\\n",
       "0                 1         15-2-2011                  1             4.00   \n",
       "1                10         15-2-2011                  1            10.00   \n",
       "2               100         15-2-2011                 17             3.00   \n",
       "3               101        15-12-2019                 18           305.54   \n",
       "4               102        10-12-2019                 18           380.95   \n",
       "..              ...               ...                ...              ...   \n",
       "110              95         15-2-2011                 16             3.00   \n",
       "111              96         15-2-2011                 17            16.43   \n",
       "112              97          5-3-2013                 17            25.00   \n",
       "113              98         15-2-2011                 17             3.00   \n",
       "114              99         15-2-2011                 17             2.00   \n",
       "\n",
       "     MARGIN    PRODUCT_IMAGE LANGUAGE              PRODUCT_NAME  \\\n",
       "0      0.33    P01CE1CG1.jpg       EN       TrailChef Water Bag   \n",
       "1      0.40    P10CE1CG1.jpg       EN        TrailChef Utensils   \n",
       "2      0.50  P100OP4FA17.jpg       EN        Insect Bite Relief   \n",
       "3       NaN  P101GE5IR18.jpg       EN     Hailstorm Steel Irons   \n",
       "4      0.51  P102GE5IR18.jpg       EN  Hailstorm Titanium Irons   \n",
       "..      ...              ...      ...                       ...   \n",
       "110    0.50   P91OP4SS16.jpg       EN                Sun Shield   \n",
       "111    0.28   P96OP4FA17.jpg       EN        Compact Relief Kit   \n",
       "112    0.28   P96OP4FA17.jpg       EN  Deluxe Family Relief Kit   \n",
       "113    0.50   P98OP4FA17.jpg       EN           Calamine Relief   \n",
       "114     NaN   P99OP4FA17.jpg       EN               Aloe Relief   \n",
       "\n",
       "                                           DESCRIPTION  \n",
       "0    Lightweight, collapsible bag to carry liquids ...  \n",
       "1    Spoon, fork and knife set made of a light yet ...  \n",
       "2    The Insect Bite Relief helps the itching and s...  \n",
       "3    Iron is 17-4 stainless steel.  Shafts are grap...  \n",
       "4    Made entirely of pure titanium. The ultimate i...  \n",
       "..                                                 ...  \n",
       "110  PABA free sunscreen, SPF 30, poison oak and iv...  \n",
       "111  A personal first aid kit is recommended for ev...  \n",
       "112  A complete medical kit suitable for families w...  \n",
       "113  Use the Calamine Relief for allergic skin reac...  \n",
       "114  Perfect for minor burns and sunburn, the aloe ...  \n",
       "\n",
       "[115 rows x 9 columns]"
      ]
     },
     "execution_count": 17,
     "metadata": {},
     "output_type": "execute_result"
    }
   ],
   "source": [
    "product = laadDataIn(\"product_clean.xlsx\", 10)\n",
    "product"
   ]
  },
  {
   "cell_type": "code",
   "execution_count": 18,
   "metadata": {},
   "outputs": [
    {
     "name": "stdout",
     "output_type": "stream",
     "text": [
      "9\n",
      "9\n"
     ]
    }
   ],
   "source": [
    "print(product['PRODUCTION_COST'].isna().sum())\n",
    "print(product['MARGIN'].isna().sum())"
   ]
  },
  {
   "cell_type": "markdown",
   "metadata": {},
   "source": [
    "Bovenstaande code is alleen maar bedoeld om in de kolommen 'PRODUCTION_COST' en 'MARGIN' op 10 willekeurige plekken wat getallen weg te halen en dus een aantal missende waarden in te bouwen in je tabel. Dit is uiteraard precies het tegenovergestelde van wat je wil als je data schoonmaakt, maar omwille van de oefening om missende continue data weg te halen is het uitvoeren van deze coderegels noodzakelijk. Deze code mag je negeren en op het toepassen van deze techniek ga je in dit hele semester niet beoordeeld worden."
   ]
  },
  {
   "cell_type": "code",
   "execution_count": 19,
   "metadata": {},
   "outputs": [
    {
     "data": {
      "text/plain": [
       "PRODUCT_NUMBER         int64\n",
       "INTRODUCTION_DATE     object\n",
       "PRODUCT_TYPE_CODE      int64\n",
       "PRODUCTION_COST      float64\n",
       "MARGIN               float64\n",
       "PRODUCT_IMAGE         object\n",
       "LANGUAGE              object\n",
       "PRODUCT_NAME          object\n",
       "DESCRIPTION           object\n",
       "dtype: object"
      ]
     },
     "execution_count": 19,
     "metadata": {},
     "output_type": "execute_result"
    }
   ],
   "source": [
    "product.dtypes"
   ]
  },
  {
   "cell_type": "markdown",
   "metadata": {},
   "source": [
    "Belangrijk om te weten: als je jezelf voorneemt om met kolommen met continue data te werken, is het ook belangrijk dat Python erkent dat in die kolommen ook daadwerkelijk continue data staat. In dit geval willen we graag missende waarden in PRODUCTION_COST en MARGIN invoeren. Even de datatypen van deze 2 kolommen controleren..."
   ]
  },
  {
   "cell_type": "markdown",
   "metadata": {},
   "source": [
    "De kolommen PRODUCTION_COST en MARGIN zijn van het type 'float64', wat bijna altijd duidt op continue data. Dit is dus helemaal goed! Stel dat beide kolommen van het type 'object' waren geweest, dan had je onderstaande code moeten gebruiken om de datatypen weer op orde te krijgen."
   ]
  },
  {
   "cell_type": "code",
   "execution_count": 20,
   "metadata": {},
   "outputs": [
    {
     "data": {
      "text/plain": [
       "PRODUCT_NUMBER         int64\n",
       "INTRODUCTION_DATE     object\n",
       "PRODUCT_TYPE_CODE      int64\n",
       "PRODUCTION_COST      float64\n",
       "MARGIN               float64\n",
       "PRODUCT_IMAGE         object\n",
       "LANGUAGE              object\n",
       "PRODUCT_NAME          object\n",
       "DESCRIPTION           object\n",
       "dtype: object"
      ]
     },
     "execution_count": 20,
     "metadata": {},
     "output_type": "execute_result"
    }
   ],
   "source": [
    "product['PRODUCTION_COST'] = product['PRODUCTION_COST'].astype(float)\n",
    "product['MARGIN'] = product['MARGIN'].astype(float)\n",
    "product.dtypes"
   ]
  },
  {
   "cell_type": "markdown",
   "metadata": {},
   "source": [
    "Bovenstaand stuk code doet nu het juiste, maar is eigenlijk overbodig. De juiste kolommen stonden immers al op datatype 'float64'."
   ]
  },
  {
   "cell_type": "markdown",
   "metadata": {},
   "source": [
    "## Missende waarden afhandelen"
   ]
  },
  {
   "cell_type": "markdown",
   "metadata": {},
   "source": [
    "### Mogelijke methoden"
   ]
  },
  {
   "cell_type": "markdown",
   "metadata": {},
   "source": [
    "Binnen de Data Science wordt er onderscheid gemaakt tussen 2 soorten data:\n",
    "- Categorische data: dit zijn datapunten waarop alleen een telberekening uitgevoerd kan worden. Hier hebben we maandag al bij stilgestaan.\n",
    "- Continue data: dit zijn getallen waarop verschillende berekeningen uitgevoerd kunnen worden (som, gemiddelde, mediaan, minimum, maximum, enzovoort).\n",
    "\n",
    "Hoe je missende waarden gaat invullen hangt heel sterk af van de soort data die in de betreffende kolom staat. 3 mogelijkheden voor het invullen van missende continue datawaarden:\n",
    "- Een bepaald standaardgetal aangeven dat gelijk staat aan 'onbekend'. Groot nadeel: bij data-aggregaties (zoals het berekenen van de som of het gemiddelde) moet je er goed aan denken dat je deze getallen eruit filtert. Gebruik deze methode als...\n",
    "    - De kolom allemaal verschillende waarden bevat, die niet afgeleid kunnen worden van waarden uit andere kolommen.\n",
    "    - Je op korte termijn niet geïnteresseerd bent in de analysemogelijkheden van deze kolom.\n",
    "- Het gemiddelde pakken van alle getallen in dezelfde kolom die wél bekend zijn. Gebruik deze methode als je data \"normaal verdeeld\" is.\n",
    "- De mediaan pakken van alle getallen in dezelfde kolom die wél bekend zijn. Gebruik deze methode als je data \"niet normaal verdeeld\" (dus erg gespreid) is.\n",
    "\n",
    "In de onderstaande coderegels wordt in de producttabel per kolom met continue data achterhaald wat de juiste vulmethode is en wordt gedemonstreerd hoe je deze toepast in Python."
   ]
  },
  {
   "cell_type": "markdown",
   "metadata": {},
   "source": [
    "## 'Getal-onbekendmethode'"
   ]
  },
  {
   "cell_type": "markdown",
   "metadata": {},
   "source": [
    "De kolom PRODUCTION_COST bestaat alleen maar uit continue data: er staan immers alleen getallen in en geen strings of datums, o.i.d. Hoeveel missende waarden heeft deze kolom? Laten we nog eens kijken..."
   ]
  },
  {
   "cell_type": "code",
   "execution_count": 21,
   "metadata": {},
   "outputs": [
    {
     "data": {
      "text/plain": [
       "9"
      ]
     },
     "execution_count": 21,
     "metadata": {},
     "output_type": "execute_result"
    }
   ],
   "source": [
    "product['PRODUCTION_COST'].isna().sum()"
   ]
  },
  {
   "cell_type": "markdown",
   "metadata": {},
   "source": [
    "Er zijn dus 10 waarden die nu nog missen. Laten we met de eerste methode oefenen: de 'getal-onbekend'-methode. We besluiten namelijk ter plekke dat we niet geïnteresseerd zijn in het analyseren van productiekosten en dit is een geldig argument om deze methode te hanteren. Aangezien productiekosten altijd 0 of hoger zijn, besluiten we om onbekende kosten aan te duiden met -1."
   ]
  },
  {
   "cell_type": "code",
   "execution_count": 22,
   "metadata": {},
   "outputs": [
    {
     "data": {
      "text/plain": [
       "0"
      ]
     },
     "execution_count": 22,
     "metadata": {},
     "output_type": "execute_result"
    }
   ],
   "source": [
    "product['PRODUCTION_COST'] = product['PRODUCTION_COST'].fillna(-1)\n",
    "product['PRODUCTION_COST'].isna().sum()"
   ]
  },
  {
   "cell_type": "markdown",
   "metadata": {},
   "source": [
    "Met de eerste coderegel vullen we de waarde -1 in met de .fillna(...)-methode. Met de tweede coderegel vragen we vervolgens nog een keer het aantal missende waarden op. We verwachten nu uiteraard dat deze 0 is en dat klopt ook! Operatie geslaagd dus!\n",
    "Maar wacht... hoe krijg ik nu de totale productiekosten? Je zou zeggen dat dat met de onderstaande code mogelijk is"
   ]
  },
  {
   "cell_type": "code",
   "execution_count": 23,
   "metadata": {},
   "outputs": [
    {
     "data": {
      "text/plain": [
       "8703.39"
      ]
     },
     "execution_count": 23,
     "metadata": {},
     "output_type": "execute_result"
    }
   ],
   "source": [
    "product['PRODUCTION_COST'].sum()"
   ]
  },
  {
   "cell_type": "markdown",
   "metadata": {},
   "source": [
    "Maar... dit getal is zeer verraderlijk! De -1's die we eraan hebben toegevoegd worden meegenomen in de berekening! We zullen dus met de .loc[]-methode, die we al heel lang kennen, moeten specificeren dat alle -1's genegeerd worden. Het daadwerkelijke totaal van alle productiekosten is dus:"
   ]
  },
  {
   "cell_type": "code",
   "execution_count": 24,
   "metadata": {},
   "outputs": [
    {
     "data": {
      "text/plain": [
       "8712.39"
      ]
     },
     "execution_count": 24,
     "metadata": {},
     "output_type": "execute_result"
    }
   ],
   "source": [
    "product.loc[product['PRODUCTION_COST'] != -1, 'PRODUCTION_COST'].sum()"
   ]
  },
  {
   "cell_type": "markdown",
   "metadata": {},
   "source": [
    "Zoals eerder al gezegd is dit '2 keer moeten nadenken voordat je data aggregeert' een groot nadeel bij het gebruiken van de 'getal-onbekendmethode'."
   ]
  },
  {
   "cell_type": "markdown",
   "metadata": {},
   "source": [
    "## Gemiddelde-/mediaanafweging"
   ]
  },
  {
   "cell_type": "code",
   "execution_count": 25,
   "metadata": {},
   "outputs": [
    {
     "data": {
      "text/plain": [
       "9"
      ]
     },
     "execution_count": 25,
     "metadata": {},
     "output_type": "execute_result"
    }
   ],
   "source": [
    "product = laadDataIn(\"product_clean.xlsx\", 10)\n",
    "product['MARGIN'].isna().sum()"
   ]
  },
  {
   "cell_type": "markdown",
   "metadata": {},
   "source": [
    "De PRODUCTION_COST is nu gevuld, maar de margin nog niet. Da's mooi, want dan kunnen we oefenen met het toekennen van het gemiddelde en de mediaan. Laten we eerst kijken naar het verschil tussen deze 2. Stel dat we de volgende lijst hebben:"
   ]
  },
  {
   "cell_type": "code",
   "execution_count": 26,
   "metadata": {},
   "outputs": [
    {
     "name": "stdout",
     "output_type": "stream",
     "text": [
      "[33, 32, 35, 38, 40, 29, 1, 12, 15]\n",
      "Som leeftijden: 235\n",
      "Aantal leeftijden: 9\n",
      "Gemiddelde van leeftijden: 26.11111111111111\n"
     ]
    }
   ],
   "source": [
    "leeftijden = [33, 32, 35, 38, 40, 29, 1, 12, 15]\n",
    "print(leeftijden)\n",
    "\n",
    "print(\"Som leeftijden: \" + str(np.sum(leeftijden)))\n",
    "print(\"Aantal leeftijden: \" + str(len(leeftijden)))\n",
    "print(\"Gemiddelde van leeftijden: \" + str(np.mean(leeftijden)))"
   ]
  },
  {
   "cell_type": "markdown",
   "metadata": {},
   "source": [
    "Het gemiddelde wordt berekend door alle leeftijden bij elkaar op te tellen en vervolgens te delen door het aantal leeftijden. Dit klinkt als een goede methode om tot één getal te komen die de héle dataset beschrijft, maar dit heeft wel een nadeel: het wordt namelijk sterk beïnvloed door zogeheten 'outliers'. We hebben immers ook enkele kinderen (met leeftijd 1) en pubers (12 en 15) erin zitten, waardoor het uiteindelijke gemiddelde lager uitkomt (26.6) dan we op het eerste gezicht zouden denken (ergens in de 30). De waarden in de dataset die we hebben zijn dan ook erg gespreid, we zeggen in dat geval ook wel dat de data 'niet normaal verdeeld' is. Laten we nu de mediaan berekenen..."
   ]
  },
  {
   "cell_type": "code",
   "execution_count": 27,
   "metadata": {},
   "outputs": [
    {
     "name": "stdout",
     "output_type": "stream",
     "text": [
      "32\n",
      "32.0\n"
     ]
    }
   ],
   "source": [
    "leeftijden.sort()\n",
    "print(leeftijden[int(len(leeftijden) / 2)]) #Pakt het middelste getal uit de gesorteerde lijst\n",
    "print(np.median(leeftijden))"
   ]
  },
  {
   "cell_type": "markdown",
   "metadata": {},
   "source": [
    "Voor het berekenen van de mediaan worden allereerst alle leeftijden gesorteerd van laag naar hoog. Vervolgens wordt het middelste getal gepakt (32). In dit geval is de mediaan een veel beter middel om de hele dataset samen te vatten, aangezien we in één oogopslag konden zien dat het merendeel van de leeftijden in de 30 lag. Dit is dus beter dan de gemiddelde leeftijd van 26 die we net hadden."
   ]
  },
  {
   "cell_type": "markdown",
   "metadata": {},
   "source": [
    "Om er snel achter te komen hoe verdeeld een dataset nou eigenlijk is, kunnen we hier een boxplot van maken:"
   ]
  },
  {
   "cell_type": "code",
   "execution_count": 28,
   "metadata": {},
   "outputs": [
    {
     "data": {
      "image/png": "[encoded data removed]",
      "text/plain": [
       "<Figure size 640x480 with 1 Axes>"
      ]
     },
     "metadata": {},
     "output_type": "display_data"
    }
   ],
   "source": [
    "plt.boxplot(leeftijden)\n",
    "plt.show()"
   ]
  },
  {
   "cell_type": "markdown",
   "metadata": {},
   "source": [
    "Het blokje in het ongeveer-midden staat voor getallen die ongeveer rond het gemiddelde liggen, de oranje lijn geeft de net-berekende mediaan aan. De verticale strepen boven en onder dit blokje staan voor 'outliers'. In dit geval zien we dus, wat we net ook al concludeerden, dat we relatief vrij veel 'outliers' naar beneden hebben, waardoor het gemiddelde lager uitvalt dan de mediaan. Nogmaals: dit toont aan dat een dataset niet (echt) 'normaal verdeeld' is en dat het beter is om op de plek van eventuele missende waarden de mediaan te zetten (en niet het gemiddelde)."
   ]
  },
  {
   "cell_type": "markdown",
   "metadata": {},
   "source": [
    "## Praktische toepassing"
   ]
  },
  {
   "cell_type": "markdown",
   "metadata": {},
   "source": [
    "Laten we nu een boxplot maken voor de MARGIN-kolom:"
   ]
  },
  {
   "cell_type": "code",
   "execution_count": 29,
   "metadata": {},
   "outputs": [
    {
     "data": {
      "text/html": [
       "<div>\n",
       "<style scoped>\n",
       "    .dataframe tbody tr th:only-of-type {\n",
       "        vertical-align: middle;\n",
       "    }\n",
       "\n",
       "    .dataframe tbody tr th {\n",
       "        vertical-align: top;\n",
       "    }\n",
       "\n",
       "    .dataframe thead th {\n",
       "        text-align: right;\n",
       "    }\n",
       "</style>\n",
       "<table border=\"1\" class=\"dataframe\">\n",
       "  <thead>\n",
       "    <tr style=\"text-align: right;\">\n",
       "      <th></th>\n",
       "      <th>MARGIN</th>\n",
       "    </tr>\n",
       "  </thead>\n",
       "  <tbody>\n",
       "    <tr>\n",
       "      <th>0</th>\n",
       "      <td>0.33</td>\n",
       "    </tr>\n",
       "    <tr>\n",
       "      <th>2</th>\n",
       "      <td>0.50</td>\n",
       "    </tr>\n",
       "    <tr>\n",
       "      <th>3</th>\n",
       "      <td>0.43</td>\n",
       "    </tr>\n",
       "    <tr>\n",
       "      <th>4</th>\n",
       "      <td>0.51</td>\n",
       "    </tr>\n",
       "    <tr>\n",
       "      <th>5</th>\n",
       "      <td>0.43</td>\n",
       "    </tr>\n",
       "    <tr>\n",
       "      <th>...</th>\n",
       "      <td>...</td>\n",
       "    </tr>\n",
       "    <tr>\n",
       "      <th>109</th>\n",
       "      <td>0.60</td>\n",
       "    </tr>\n",
       "    <tr>\n",
       "      <th>110</th>\n",
       "      <td>0.50</td>\n",
       "    </tr>\n",
       "    <tr>\n",
       "      <th>111</th>\n",
       "      <td>0.28</td>\n",
       "    </tr>\n",
       "    <tr>\n",
       "      <th>113</th>\n",
       "      <td>0.50</td>\n",
       "    </tr>\n",
       "    <tr>\n",
       "      <th>114</th>\n",
       "      <td>0.60</td>\n",
       "    </tr>\n",
       "  </tbody>\n",
       "</table>\n",
       "<p>106 rows × 1 columns</p>\n",
       "</div>"
      ],
      "text/plain": [
       "     MARGIN\n",
       "0      0.33\n",
       "2      0.50\n",
       "3      0.43\n",
       "4      0.51\n",
       "5      0.43\n",
       "..      ...\n",
       "109    0.60\n",
       "110    0.50\n",
       "111    0.28\n",
       "113    0.50\n",
       "114    0.60\n",
       "\n",
       "[106 rows x 1 columns]"
      ]
     },
     "execution_count": 29,
     "metadata": {},
     "output_type": "execute_result"
    }
   ],
   "source": [
    "product.loc[~product['MARGIN'].isna(), ['MARGIN']]"
   ]
  },
  {
   "cell_type": "code",
   "execution_count": 30,
   "metadata": {},
   "outputs": [
    {
     "data": {
      "image/png": "[encoded data removed]",
      "text/plain": [
       "<Figure size 640x480 with 1 Axes>"
      ]
     },
     "metadata": {},
     "output_type": "display_data"
    }
   ],
   "source": [
    "product.loc[~product['MARGIN'].isna(), ['MARGIN']].boxplot()\n",
    "plt.show()"
   ]
  },
  {
   "cell_type": "code",
   "execution_count": 31,
   "metadata": {},
   "outputs": [
    {
     "name": "stdout",
     "output_type": "stream",
     "text": [
      "Gemiddelde: 0.3947169811320755\n",
      "Mediaan: 0.37\n"
     ]
    },
    {
     "name": "stderr",
     "output_type": "stream",
     "text": [
      "c:\\Coding\\Python\\Version\\3.10.8\\lib\\site-packages\\numpy\\core\\fromnumeric.py:3430: FutureWarning: In a future version, DataFrame.mean(axis=None) will return a scalar mean over the entire DataFrame. To retain the old behavior, use 'frame.mean(axis=0)' or just 'frame.mean()'\n",
      "  return mean(axis=axis, dtype=dtype, out=out, **kwargs)\n"
     ]
    }
   ],
   "source": [
    "mean_margin = np.mean(product.loc[~product['MARGIN'].isna(), ['MARGIN']])[0]\n",
    "median_margin = np.median(product.loc[~product['MARGIN'].isna(), ['MARGIN']])\n",
    "\n",
    "print(\"Gemiddelde: \" + str(mean_margin))\n",
    "print(\"Mediaan: \" + str(median_margin))"
   ]
  },
  {
   "cell_type": "markdown",
   "metadata": {},
   "source": [
    "Uit de gemaakte boxplot kunnen we concluderen dat het in dit geval heel weinig uitmaakt of we het gemiddelde of de mediaan op de missende plekken zetten, aangezien beide kengetallen niet al tever van elkaar afliggen (het scheelt ongeveer 2 a 3 cent ;-) ). We besluiten om de missende waarden te veranderen door de mediaan."
   ]
  },
  {
   "cell_type": "code",
   "execution_count": 32,
   "metadata": {},
   "outputs": [
    {
     "data": {
      "text/plain": [
       "0"
      ]
     },
     "execution_count": 32,
     "metadata": {},
     "output_type": "execute_result"
    }
   ],
   "source": [
    "product['MARGIN'] = product['MARGIN'].fillna(median_margin)\n",
    "product['MARGIN'].isna().sum()"
   ]
  },
  {
   "cell_type": "markdown",
   "metadata": {},
   "source": [
    "En zo zien we dat ook het vervangen van continue data is gelukt :-) ."
   ]
  }
 ],
 "metadata": {
  "kernelspec": {
   "display_name": "Python 3",
   "language": "python",
   "name": "python3"
  },
  "language_info": {
   "codemirror_mode": {
    "name": "ipython",
    "version": 3
   },
   "file_extension": ".py",
   "mimetype": "text/x-python",
   "name": "python",
   "nbconvert_exporter": "python",
   "pygments_lexer": "ipython3",
   "version": "3.10.8"
  }
 },
 "nbformat": 4,
 "nbformat_minor": 5
}
