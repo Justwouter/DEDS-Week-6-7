{
 "cells": [
  {
   "cell_type": "markdown",
   "metadata": {},
   "source": [
    "# DEDS-week 7, Hoorcollege 1 - Missende waarden in categorische data"
   ]
  },
  {
   "cell_type": "markdown",
   "metadata": {},
   "source": [
    "## Libraries importeren"
   ]
  },
  {
   "cell_type": "code",
   "execution_count": null,
   "id": "b90f1886",
   "metadata": {},
   "outputs": [],
   "source": [
    "import pandas as pd\n",
    "import pyodbc\n",
    "from ydata_profiling import ProfileReport"
   ]
  },
  {
   "cell_type": "markdown",
   "id": "8d9fea71",
   "metadata": {},
   "source": [
    "We importeren een extra library, die we vorige week nog niet gebruikten: ydata_profiling, waaruit we ProfileReport halen. Waar deze voor is, komt verderop aan bod."
   ]
  },
  {
   "cell_type": "markdown",
   "id": "f1f09cd8",
   "metadata": {},
   "source": [
    "## DB-connecties maken"
   ]
  },
  {
   "cell_type": "code",
   "execution_count": null,
   "id": "07800428",
   "metadata": {},
   "outputs": [],
   "source": [
    "sales_conn = pyodbc.connect(r'Driver={Microsoft Access Driver (*.mdb, *.accdb)};DBQ=..\\GO-databases DEDS-week 4 & 5\\go_sales.accdb;')"
   ]
  },
  {
   "cell_type": "markdown",
   "id": "8b15c4dd",
   "metadata": {},
   "source": [
    "## Dataframe aanmaken vanuit SELECT op databasetabel"
   ]
  },
  {
   "cell_type": "code",
   "execution_count": null,
   "id": "1e6af31c",
   "metadata": {},
   "outputs": [],
   "source": [
    "product = pd.read_sql(\"SELECT * FROM product\", sales_conn)\n",
    "product"
   ]
  },
  {
   "cell_type": "markdown",
   "id": "93941f49",
   "metadata": {},
   "source": [
    "## Kwaliteitsoverzicht"
   ]
  },
  {
   "cell_type": "code",
   "execution_count": null,
   "id": "03b481d9",
   "metadata": {},
   "outputs": [],
   "source": [
    "profile = ProfileReport(product, title = 'Kwaliteitsrapportage product')\n",
    "# profile.to_widgets()"
   ]
  },
  {
   "cell_type": "markdown",
   "id": "d172b71c",
   "metadata": {},
   "source": [
    "Met het geïmporteerde rapport kunnen we een statistisch overzicht maken van een aantal kengetallen en correlaties in deze dataset. Enige nadeel: het duurt vrij lang voordat dit standaardrapport klaar is. Met name het tabblad \"Alerts\" onder \"Overview\" is interessant: die doet namelijk onder andere uitspraken over de datakwaliteit en missende waarden mogen daarin uiteraard niet ontbreken. Klik er voor de aardigheid gewoon eens doorheen en dan zie je wat Profiling allemaal voor je uit kan rekenen. Het is altijd goed om dit soort statistieken inzichtelijk te hebben voor snel inzicht in je ingeladen dataset, alvorens je daar mutaties op gaat toepassen."
   ]
  },
  {
   "cell_type": "markdown",
   "id": "e085fbe1",
   "metadata": {},
   "source": [
    "## Missende waarden afhandelen"
   ]
  },
  {
   "cell_type": "markdown",
   "id": "89408091",
   "metadata": {},
   "source": [
    "### Mogelijke methoden"
   ]
  },
  {
   "cell_type": "markdown",
   "id": "c1379081",
   "metadata": {},
   "source": [
    "Binnen de Data Science wordt er onderscheid gemaakt tussen 2 soorten data:\n",
    "- Categorische data: dit zijn datapunten waarop alleen een telberekening uitgevoerd kan worden.\n",
    "- Continue data: dit zijn getallen waarop verschillende berekeningen uitgevoerd kunnen worden (som, gemiddelde, mediaan, minimum, maximum, enzovoort). Hoe je in dit soort kolommen  missende data handelt komt woensdag aanbod.\n",
    "\n",
    "Hoe je missende waarden gaat invullen hangt heel sterk af van de soort data die in de betreffende kolom staat.\n",
    "3 mogelijkheden voor het invullen van missende categorische datawaarden:\n",
    "- Waarden op 'onbekend' zetten. Gebruik deze methode als...\n",
    "    - De kolom allemaal verschillende waarden bevat, die niet afgeleid kunnen worden van waarden uit andere kolommen.\n",
    "    - Je op korte termijn niet geïnteresseerd bent in de analysemogelijkheden van deze kolom.\n",
    "- De waarde pakken die het vaakst voorkomt. Deze waarde wordt ook wel de modus genoemd. Gebruik deze methode als verreweg de meeste kolomvelden dezelfde waarde bevatten. De spreiding van waarden in je kolom is dan dus niet heel groot. \n",
    "- De 'buur-analyse'. In tegenstelling tot de andere twee methoden analyseer je hierbij het héle dataframe, in plaats van alleen de betreffende kolom met de missende waarden  Deze methode bestaat uit 2 stappen...\n",
    "    - Je zoekt naar overeenkomstige eigenschappen tussen rijen waarin de betreffende kolom niet is ingevuld.\n",
    "    - Je zoekt in de overkoepelende tabel naar rijen met die eigenschappen en probeert de juiste vulwaarden te achterhalen.\n",
    "\n",
    "In de onderstaande coderegels wordt per categorische kolom uit de producttabel achterhaald wat de juiste vulmethode is en wordt gedemonstreerd hoe je deze toepast in Python."
   ]
  },
  {
   "cell_type": "markdown",
   "id": "5aacf1d1",
   "metadata": {},
   "source": [
    "### INTRODUCTION_DATE"
   ]
  },
  {
   "cell_type": "markdown",
   "id": "a3c16abb",
   "metadata": {},
   "source": [
    "De kolom INTRODUCTION_DATE bestaat alleen maar uit categorische data: er staan immers alleen datums in en geen getallen. Hoeveel missende waarden heeft deze kolom ook alweer? Laten we nog eens kijken..."
   ]
  },
  {
   "cell_type": "code",
   "execution_count": null,
   "id": "2480ec36",
   "metadata": {},
   "outputs": [],
   "source": [
    "product['INTRODUCTION_DATE'].isna().sum()"
   ]
  },
  {
   "cell_type": "markdown",
   "id": "d4f95427",
   "metadata": {},
   "source": [
    "Er zijn dus 5 waarden die nu nog missen. Laten we met de eerste methode oefenen: de 'onbekend'-methode. We besluiten namelijk ter plekke dat we niet geïnteresseerd zijn in het analyseren van introductiedata en dit is een geldig argument om deze methode te hanteren."
   ]
  },
  {
   "cell_type": "code",
   "execution_count": null,
   "id": "da15f6df",
   "metadata": {},
   "outputs": [],
   "source": [
    "product['INTRODUCTION_DATE'] = product['INTRODUCTION_DATE'].fillna('onbekend')\n",
    "product['INTRODUCTION_DATE'].isna().sum()"
   ]
  },
  {
   "cell_type": "markdown",
   "id": "24190d3c",
   "metadata": {},
   "source": [
    "Met de eerste coderegel vullen we de waarde 'onbekend' in met de .fillna(...)-methode. Met de tweede coderegel vragen we vervolgens nog een keer het aantal missende waarden op. We verwachten nu uiteraard dat deze 0 is en dat klopt ook! Operatie geslaagd dus!\n",
    "\n",
    "Maar wacht... eigenlijk hebben we nu toch geen waarde toegevoegd? Eerst miste er een regel en nu staat daar simpelweg 'onbekend', wat is hier het nut van? 2 redenen...\n",
    "- Als je Machine-Learningmodellen gaat trainen mag de data die je erin stopt helemaal geen missende waarden bevatten, anders crasht het model.\n",
    "- Je ziet in reporting-programma's, bijvoorbeeld Power BI & Qlikview, geen irritante 'blanks' meer staan. Je weet dus dat je op zijn minst heb nagedacht over hoe je missende waarden afhandelt."
   ]
  },
  {
   "cell_type": "markdown",
   "id": "b261a1d5",
   "metadata": {},
   "source": [
    "### LANGUAGE"
   ]
  },
  {
   "cell_type": "markdown",
   "id": "3df9ba7f",
   "metadata": {},
   "source": [
    "Ook de kolom LANGUAGE bestaat alleen maar uit categorische data: er staat immers alleen tekst in en geen getallen. Hoeveel missende waarden hebben we hier ook alweer? Let's find out!"
   ]
  },
  {
   "cell_type": "code",
   "execution_count": null,
   "id": "dc2c81bb",
   "metadata": {},
   "outputs": [],
   "source": [
    "product['LANGUAGE'].isna().sum()"
   ]
  },
  {
   "cell_type": "markdown",
   "id": "2c633ebb",
   "metadata": {},
   "source": [
    "We hebben vorige week al gezien dat bijna elke waarde in LANGUAGE 'EN' is. De categorische data in deze kolom is dus niet heel erg verdeeld, wat een goed argument is om de 6 ontbrekende waarden alsnog in te vullen met de 'modus'-methode. Uiteraard dienen we daarvoor eerst de modus te bepalen, voordat we .fillna(...) kunnen vullen. Dat doen we met onderstaande code:"
   ]
  },
  {
   "cell_type": "code",
   "execution_count": null,
   "id": "d294e6d2",
   "metadata": {},
   "outputs": [],
   "source": [
    "modus = product['LANGUAGE'].mode()[0]\n",
    "modus"
   ]
  },
  {
   "cell_type": "markdown",
   "id": "ab3e06e3",
   "metadata": {},
   "source": [
    "We zien dat de waarde 'EN' inderdaad het vaakst voorkomt in LANGUAGE. We slaan deze op in de variabele 'modus'."
   ]
  },
  {
   "cell_type": "code",
   "execution_count": null,
   "id": "4862f479",
   "metadata": {},
   "outputs": [],
   "source": [
    "product['LANGUAGE'] = product['LANGUAGE'].fillna(modus)\n",
    "product['LANGUAGE'].isna().sum()"
   ]
  },
  {
   "cell_type": "markdown",
   "id": "1ba0fb03",
   "metadata": {},
   "source": [
    "We gebruiken ten slotte de modus om de .fillna() in te vullen. Ook hier zien we dat de operatie is gelukt :-)"
   ]
  },
  {
   "cell_type": "markdown",
   "id": "f45decbe",
   "metadata": {},
   "source": [
    "### PRODUCT_TYPE_CODE"
   ]
  },
  {
   "cell_type": "markdown",
   "id": "ea346137",
   "metadata": {},
   "source": [
    "En... wéér hebben we categorische data. In PRODUCT_TYPE_CODE staan weliswaar getallen, maar zij geven categorieën aan. De som en/of het gemiddelde van dergelijke data berekenen zou heel erg onnuttig zijn."
   ]
  },
  {
   "cell_type": "code",
   "execution_count": null,
   "id": "46302e33",
   "metadata": {},
   "outputs": [],
   "source": [
    "product['PRODUCT_TYPE_CODE'].isna().sum()"
   ]
  },
  {
   "cell_type": "markdown",
   "id": "13ba8a20",
   "metadata": {},
   "source": [
    "6 missende rijen, mooi! Dan kunnen we aan de slag met de derde invulmethode voor categorische data: de 'buur'-analyse. De eerste stap omvat het maken van een subset van alle kolommen van rijen waar PRODUCT_TYPE_CODE leeg is om te kijken welke andere kolommen wél ingevuld zijn."
   ]
  },
  {
   "cell_type": "code",
   "execution_count": null,
   "id": "3f7f6fd0",
   "metadata": {},
   "outputs": [],
   "source": [
    "product.loc[product['PRODUCT_TYPE_CODE'].isna(), :]"
   ]
  },
  {
   "cell_type": "markdown",
   "id": "4514bf68",
   "metadata": {},
   "source": [
    "In deze subset gaan we vervolgens op zoek naar gelijkenissen tussen rijen."
   ]
  },
  {
   "cell_type": "markdown",
   "id": "70665869",
   "metadata": {},
   "source": [
    "#### PRODUCT_NAME bevat 'Granite'"
   ]
  },
  {
   "cell_type": "markdown",
   "id": "c0dcbf3c",
   "metadata": {},
   "source": [
    "Het valt ons ten eerste op dat in 'PRODUCT_NAME' twee keer het woord 'Granite' voorkomt. Als we in het overkoepelende dataframe zoeken op rijen met productnamen die dit woord bevatten kunnen we misschien achterhalen welk producttype hier het vaakst bijhoort."
   ]
  },
  {
   "cell_type": "code",
   "execution_count": null,
   "id": "70bdebc6",
   "metadata": {},
   "outputs": [],
   "source": [
    "subset_product_name_contains_granite = product.loc[(~product['PRODUCT_NAME'].isna()) & (product['PRODUCT_NAME'].str.contains('Granite')), :]\n",
    "subset_product_name_contains_granite"
   ]
  },
  {
   "cell_type": "markdown",
   "id": "6780fc40",
   "metadata": {},
   "source": [
    "We zien hier dat producten die 'Granite' in hun naam hebben verreweg het vaakst bij producttype 9 horen. Vanaf hier kunnen we de aanname doen dat we missende waarden met productnamen met 'Granite' erin met 9 mogen invullen."
   ]
  },
  {
   "cell_type": "code",
   "execution_count": null,
   "id": "aaff8658",
   "metadata": {},
   "outputs": [],
   "source": [
    "product.loc[(~product['PRODUCT_NAME'].isna()) & (product['PRODUCT_NAME'].str.contains('Granite')), 'PRODUCT_TYPE_CODE'] = subset_product_name_contains_granite['PRODUCT_TYPE_CODE'].fillna(9)\n",
    "product['PRODUCT_TYPE_CODE'].isna().sum()"
   ]
  },
  {
   "cell_type": "markdown",
   "id": "28fff4c3",
   "metadata": {},
   "source": [
    "Waarom is de code aan de linkerkant van '=' zo lang? Omdat we een gedeelte van het originele dataframe ('product') willen overschrijven. Gelukkig kunnen we aan de rechterkant van '=' de gemaakte subset gebruiken. Van de 6 rijen waren er 2 die 'Granite' bevatten en daarvan is de producttypecode inmiddels ingevuld. Er zouden dus nog 4 lege waarden over moeten blijven en dat klopt!"
   ]
  },
  {
   "cell_type": "markdown",
   "id": "7326cb73",
   "metadata": {},
   "source": [
    "#### INTRODUCTION_DATE bevat jaar 2011 en 2019"
   ]
  },
  {
   "cell_type": "code",
   "execution_count": null,
   "id": "40376f93",
   "metadata": {},
   "outputs": [],
   "source": [
    "product.loc[product['PRODUCT_TYPE_CODE'].isna(), :]"
   ]
  },
  {
   "cell_type": "markdown",
   "id": "10c778a2",
   "metadata": {},
   "source": [
    "Ten tweede zien we dat bij de ene 2 rijen waar de producttypecode mist, het jaartal 2011 is, bij de andere 2 rijen is dit 2019. Zou dat een goede tweede aanwijzing kunnen zijn? Let's find out! Hiervoor is het handig om eerst even een extra kolom 'INTRODUCTION_YEAR' te maken."
   ]
  },
  {
   "cell_type": "code",
   "execution_count": null,
   "id": "3a7ef001",
   "metadata": {},
   "outputs": [],
   "source": [
    "product['INTRODUCTION_YEAR'] = product['INTRODUCTION_DATE'].str[-4:]\n",
    "product"
   ]
  },
  {
   "cell_type": "markdown",
   "id": "ce966b57",
   "metadata": {},
   "source": [
    "Met bovenstaande code lees je de laatste 4 karakters uit van elke string die in de kolom 'INTRODUCTION_DATE' staat. Met zijn viertjes geven zij het jaartal weer, dat vervolgens wordt geëxporteerd naar een nieuwe kolom: 'INTRODUCTION_YEAR'.\n",
    "\n",
    "We zoeken weer in het overkoepelende dataframe op rijen met dezelfde eigenschappen (in dit geval: introductiejaar = 2011 OF 2019). Zo hopen we wederom te achterhalen welk producttype hier het vaakst bijhoort."
   ]
  },
  {
   "cell_type": "code",
   "execution_count": null,
   "id": "bb30967c",
   "metadata": {},
   "outputs": [],
   "source": [
    "subset_introduction_year_2011_2019 = product.loc[(product['INTRODUCTION_YEAR'] == '2011') | (product['INTRODUCTION_YEAR'] == '2019'), :]\n",
    "subset_introduction_year_2011_2019"
   ]
  },
  {
   "cell_type": "markdown",
   "id": "728b70ee",
   "metadata": {},
   "source": [
    "Hmm... nogal onoverzichtelijk he. Gelukkig kunnen we, net als in SQL, groeperen op introductiejaar en producttypecode, om vervolgens met count() het aantal rijen te tellen. 'PRODUCT_NUMBER' kan misschien verwarrend zijn, je moet namelijk jammer genoeg per se een kolom uitkiezen waarvan de rijen geteld worden. Om deze verwarring weg te nemen wijzigen we maar snel deze kolomnaam naar 'Aantal producten'."
   ]
  },
  {
   "cell_type": "code",
   "execution_count": null,
   "id": "2ef32442",
   "metadata": {},
   "outputs": [],
   "source": [
    "grouped_subset_introduction_year_2011_2019 = subset_introduction_year_2011_2019.groupby(['INTRODUCTION_YEAR', 'PRODUCT_TYPE_CODE'])['PRODUCT_NUMBER'].count().reset_index()\n",
    "grouped_subset_introduction_year_2011_2019 = grouped_subset_introduction_year_2011_2019.rename(columns = {'PRODUCT_NUMBER' : 'Aantal producten'})\n",
    "grouped_subset_introduction_year_2011_2019.sort_values(['INTRODUCTION_YEAR', 'Aantal producten'], ascending = [True, False])"
   ]
  },
  {
   "cell_type": "markdown",
   "id": "1d67cdfc",
   "metadata": {},
   "source": [
    "We zien dat in jaartal 2011 producttypecode 1 het vaakst voorkomt, in jaartal 2019 is dat producttypecode 19. Hiermee kunnen we de lege waarden vullen."
   ]
  },
  {
   "cell_type": "code",
   "execution_count": null,
   "id": "f26263c2",
   "metadata": {},
   "outputs": [],
   "source": [
    "product.loc[(product['INTRODUCTION_YEAR'] == '2011'), 'PRODUCT_TYPE_CODE'] = product.loc[(product['INTRODUCTION_YEAR'] == '2011'), 'PRODUCT_TYPE_CODE'].fillna(1)\n",
    "product.loc[(product['INTRODUCTION_YEAR'] == '2019'), 'PRODUCT_TYPE_CODE'] = product.loc[(product['INTRODUCTION_YEAR'] == '2019'), 'PRODUCT_TYPE_CODE'].fillna(19)\n",
    "product['PRODUCT_TYPE_CODE'].isna().sum()"
   ]
  },
  {
   "cell_type": "markdown",
   "metadata": {},
   "source": [
    "Wederom willen we een gedeelte van het originele dataframe ('product') overschrijven (linkerkant '='). Het aantal lege waarden in PRODUCT_TYPE zou nu 0 moeten zijn en dat klopt! Yay for us :-D"
   ]
  }
 ],
 "metadata": {
  "kernelspec": {
   "display_name": "Python 3",
   "language": "python",
   "name": "python3"
  },
  "language_info": {
   "codemirror_mode": {
    "name": "ipython",
    "version": 3
   },
   "file_extension": ".py",
   "mimetype": "text/x-python",
   "name": "python",
   "nbconvert_exporter": "python",
   "pygments_lexer": "ipython3",
   "version": "3.10.8"
  }
 },
 "nbformat": 4,
 "nbformat_minor": 5
}
